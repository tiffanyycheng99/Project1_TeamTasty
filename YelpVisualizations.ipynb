{
 "cells": [
  {
   "cell_type": "code",
   "execution_count": 1,
   "metadata": {},
   "outputs": [],
   "source": [
    "#%matplotlib notebook"
   ]
  },
  {
   "cell_type": "code",
   "execution_count": 2,
   "metadata": {},
   "outputs": [
    {
     "data": {
      "text/html": [
       "<div>\n",
       "<style scoped>\n",
       "    .dataframe tbody tr th:only-of-type {\n",
       "        vertical-align: middle;\n",
       "    }\n",
       "\n",
       "    .dataframe tbody tr th {\n",
       "        vertical-align: top;\n",
       "    }\n",
       "\n",
       "    .dataframe thead th {\n",
       "        text-align: right;\n",
       "    }\n",
       "</style>\n",
       "<table border=\"1\" class=\"dataframe\">\n",
       "  <thead>\n",
       "    <tr style=\"text-align: right;\">\n",
       "      <th></th>\n",
       "      <th>Unnamed: 0</th>\n",
       "      <th>Unnamed: 0.1</th>\n",
       "      <th>name</th>\n",
       "      <th>categories</th>\n",
       "      <th>address</th>\n",
       "      <th>city</th>\n",
       "      <th>postalCode</th>\n",
       "      <th>state</th>\n",
       "      <th>country</th>\n",
       "      <th>latitude</th>\n",
       "      <th>longitude</th>\n",
       "      <th>count</th>\n",
       "      <th>Rating</th>\n",
       "      <th>Review Count</th>\n",
       "      <th>Closed</th>\n",
       "    </tr>\n",
       "  </thead>\n",
       "  <tbody>\n",
       "    <tr>\n",
       "      <th>0</th>\n",
       "      <td>0</td>\n",
       "      <td>0</td>\n",
       "      <td>Carl's Jr.</td>\n",
       "      <td>Fast Food Restaurants,Hamburgers and Hot Dogs,...</td>\n",
       "      <td>2555 11th Avenue</td>\n",
       "      <td>Greeley</td>\n",
       "      <td>80631</td>\n",
       "      <td>Colorado</td>\n",
       "      <td>US</td>\n",
       "      <td>40.39629</td>\n",
       "      <td>-104.69699</td>\n",
       "      <td>205</td>\n",
       "      <td>2.5</td>\n",
       "      <td>6.0</td>\n",
       "      <td>False</td>\n",
       "    </tr>\n",
       "    <tr>\n",
       "      <th>1</th>\n",
       "      <td>1</td>\n",
       "      <td>1</td>\n",
       "      <td>Del Taco</td>\n",
       "      <td>Restaurant,Mexican Restaurants,Fast Food Resta...</td>\n",
       "      <td>2513 Highway 6 And 50</td>\n",
       "      <td>Grand Junction</td>\n",
       "      <td>81505</td>\n",
       "      <td>Colorado</td>\n",
       "      <td>US</td>\n",
       "      <td>39.08135</td>\n",
       "      <td>-108.58689</td>\n",
       "      <td>30</td>\n",
       "      <td>3.5</td>\n",
       "      <td>6.0</td>\n",
       "      <td>False</td>\n",
       "    </tr>\n",
       "    <tr>\n",
       "      <th>2</th>\n",
       "      <td>2</td>\n",
       "      <td>2</td>\n",
       "      <td>Chipotle Mexican Grill</td>\n",
       "      <td>Fast Food Restaurants,Mexican Restaurants,Rest...</td>\n",
       "      <td>3455 N Salida Court</td>\n",
       "      <td>Aurora</td>\n",
       "      <td>80011</td>\n",
       "      <td>Colorado</td>\n",
       "      <td>US</td>\n",
       "      <td>39.76369</td>\n",
       "      <td>-104.77671</td>\n",
       "      <td>142</td>\n",
       "      <td>3.0</td>\n",
       "      <td>43.0</td>\n",
       "      <td>False</td>\n",
       "    </tr>\n",
       "    <tr>\n",
       "      <th>3</th>\n",
       "      <td>3</td>\n",
       "      <td>3</td>\n",
       "      <td>Taco Bell</td>\n",
       "      <td>Fast Food Restaurants,Mexican Restaurants,Rest...</td>\n",
       "      <td>5225 E Colfax Avenue</td>\n",
       "      <td>Denver</td>\n",
       "      <td>80220</td>\n",
       "      <td>Colorado</td>\n",
       "      <td>US</td>\n",
       "      <td>39.74044</td>\n",
       "      <td>-104.92636</td>\n",
       "      <td>529</td>\n",
       "      <td>2.0</td>\n",
       "      <td>40.0</td>\n",
       "      <td>False</td>\n",
       "    </tr>\n",
       "    <tr>\n",
       "      <th>4</th>\n",
       "      <td>4</td>\n",
       "      <td>4</td>\n",
       "      <td>McDonald's</td>\n",
       "      <td>Fast Food Restaurants,Hamburgers and Hot Dogs,...</td>\n",
       "      <td>1350 W Colfax Avenue</td>\n",
       "      <td>Denver</td>\n",
       "      <td>80204</td>\n",
       "      <td>Colorado</td>\n",
       "      <td>US</td>\n",
       "      <td>39.73967</td>\n",
       "      <td>-105.00467</td>\n",
       "      <td>784</td>\n",
       "      <td>2.0</td>\n",
       "      <td>56.0</td>\n",
       "      <td>False</td>\n",
       "    </tr>\n",
       "  </tbody>\n",
       "</table>\n",
       "</div>"
      ],
      "text/plain": [
       "   Unnamed: 0  Unnamed: 0.1                    name  \\\n",
       "0           0             0              Carl's Jr.   \n",
       "1           1             1                Del Taco   \n",
       "2           2             2  Chipotle Mexican Grill   \n",
       "3           3             3               Taco Bell   \n",
       "4           4             4              McDonald's   \n",
       "\n",
       "                                          categories                address  \\\n",
       "0  Fast Food Restaurants,Hamburgers and Hot Dogs,...       2555 11th Avenue   \n",
       "1  Restaurant,Mexican Restaurants,Fast Food Resta...  2513 Highway 6 And 50   \n",
       "2  Fast Food Restaurants,Mexican Restaurants,Rest...    3455 N Salida Court   \n",
       "3  Fast Food Restaurants,Mexican Restaurants,Rest...   5225 E Colfax Avenue   \n",
       "4  Fast Food Restaurants,Hamburgers and Hot Dogs,...   1350 W Colfax Avenue   \n",
       "\n",
       "             city postalCode     state country  latitude  longitude  count  \\\n",
       "0         Greeley      80631  Colorado      US  40.39629 -104.69699    205   \n",
       "1  Grand Junction      81505  Colorado      US  39.08135 -108.58689     30   \n",
       "2          Aurora      80011  Colorado      US  39.76369 -104.77671    142   \n",
       "3          Denver      80220  Colorado      US  39.74044 -104.92636    529   \n",
       "4          Denver      80204  Colorado      US  39.73967 -105.00467    784   \n",
       "\n",
       "   Rating  Review Count  Closed  \n",
       "0     2.5           6.0   False  \n",
       "1     3.5           6.0   False  \n",
       "2     3.0          43.0   False  \n",
       "3     2.0          40.0   False  \n",
       "4     2.0          56.0   False  "
      ]
     },
     "execution_count": 2,
     "metadata": {},
     "output_type": "execute_result"
    }
   ],
   "source": [
    "import numpy as np\n",
    "import pandas as pd\n",
    "import matplotlib.pyplot as plt\n",
    "import requests\n",
    "import time\n",
    "import json\n",
    "import seaborn\n",
    "from scipy.stats import ttest_ind\n",
    "\n",
    "yelp_df = pd.read_csv('Resources/yelp_data_clean.csv')\n",
    "yelp_df.head()\n"
   ]
  },
  {
   "cell_type": "code",
   "execution_count": 3,
   "metadata": {},
   "outputs": [
    {
     "data": {
      "text/plain": [
       "Subway                    1089\n",
       "McDonald's                 774\n",
       "Taco Bell                  517\n",
       "Burger King                438\n",
       "Pizza Hut                  426\n",
       "                          ... \n",
       "Little Caesars Pizza        11\n",
       "Skyline Chili               11\n",
       "Jason's Deli                10\n",
       "Charley's Grilled Subs      10\n",
       "Blimpie                      4\n",
       "Name: name, Length: 73, dtype: int64"
      ]
     },
     "execution_count": 3,
     "metadata": {},
     "output_type": "execute_result"
    }
   ],
   "source": [
    "#Collecting top five restaurants by amount of restaurants in the sample\n",
    "yelp_df['name'].value_counts()"
   ]
  },
  {
   "cell_type": "code",
   "execution_count": 4,
   "metadata": {},
   "outputs": [
    {
     "data": {
      "text/html": [
       "<div>\n",
       "<style scoped>\n",
       "    .dataframe tbody tr th:only-of-type {\n",
       "        vertical-align: middle;\n",
       "    }\n",
       "\n",
       "    .dataframe tbody tr th {\n",
       "        vertical-align: top;\n",
       "    }\n",
       "\n",
       "    .dataframe thead th {\n",
       "        text-align: right;\n",
       "    }\n",
       "</style>\n",
       "<table border=\"1\" class=\"dataframe\">\n",
       "  <thead>\n",
       "    <tr style=\"text-align: right;\">\n",
       "      <th></th>\n",
       "      <th>Unnamed: 0</th>\n",
       "      <th>Unnamed: 0.1</th>\n",
       "      <th>name</th>\n",
       "      <th>categories</th>\n",
       "      <th>address</th>\n",
       "      <th>city</th>\n",
       "      <th>postalCode</th>\n",
       "      <th>state</th>\n",
       "      <th>country</th>\n",
       "      <th>latitude</th>\n",
       "      <th>longitude</th>\n",
       "      <th>count</th>\n",
       "      <th>Rating</th>\n",
       "      <th>Review Count</th>\n",
       "      <th>Closed</th>\n",
       "    </tr>\n",
       "  </thead>\n",
       "  <tbody>\n",
       "    <tr>\n",
       "      <th>23</th>\n",
       "      <td>24</td>\n",
       "      <td>24</td>\n",
       "      <td>Subway</td>\n",
       "      <td>Delis And Delicatessens,Restaurant,Carry-out f...</td>\n",
       "      <td>302 W Bypass</td>\n",
       "      <td>Andalusia</td>\n",
       "      <td>36420</td>\n",
       "      <td>Alabama</td>\n",
       "      <td>US</td>\n",
       "      <td>31.30987</td>\n",
       "      <td>-86.49962</td>\n",
       "      <td>1219</td>\n",
       "      <td>3.5</td>\n",
       "      <td>2.0</td>\n",
       "      <td>False</td>\n",
       "    </tr>\n",
       "    <tr>\n",
       "      <th>25</th>\n",
       "      <td>26</td>\n",
       "      <td>26</td>\n",
       "      <td>Subway</td>\n",
       "      <td>Delis And Delicatessens,Restaurant,Carry-out f...</td>\n",
       "      <td>9433 Highway 431 S</td>\n",
       "      <td>Owens Cross Roads</td>\n",
       "      <td>35763</td>\n",
       "      <td>Alabama</td>\n",
       "      <td>US</td>\n",
       "      <td>34.57064</td>\n",
       "      <td>-86.44759</td>\n",
       "      <td>1219</td>\n",
       "      <td>5.0</td>\n",
       "      <td>1.0</td>\n",
       "      <td>False</td>\n",
       "    </tr>\n",
       "    <tr>\n",
       "      <th>29</th>\n",
       "      <td>31</td>\n",
       "      <td>31</td>\n",
       "      <td>Subway</td>\n",
       "      <td>Delis And Delicatessens,Carry-out food,Delicat...</td>\n",
       "      <td>6707 Highway 431 S Ste 104</td>\n",
       "      <td>Owens Cross Roads</td>\n",
       "      <td>35763</td>\n",
       "      <td>Alabama</td>\n",
       "      <td>US</td>\n",
       "      <td>34.65901</td>\n",
       "      <td>-86.48167</td>\n",
       "      <td>1219</td>\n",
       "      <td>3.0</td>\n",
       "      <td>3.0</td>\n",
       "      <td>False</td>\n",
       "    </tr>\n",
       "    <tr>\n",
       "      <th>35</th>\n",
       "      <td>38</td>\n",
       "      <td>38</td>\n",
       "      <td>Subway</td>\n",
       "      <td>Delis And Delicatessens,Carry-out food,Delicat...</td>\n",
       "      <td>720 Main St NE</td>\n",
       "      <td>Hanceville</td>\n",
       "      <td>35077</td>\n",
       "      <td>Alabama</td>\n",
       "      <td>US</td>\n",
       "      <td>34.07124</td>\n",
       "      <td>-86.77643</td>\n",
       "      <td>1219</td>\n",
       "      <td>5.0</td>\n",
       "      <td>1.0</td>\n",
       "      <td>False</td>\n",
       "    </tr>\n",
       "    <tr>\n",
       "      <th>59</th>\n",
       "      <td>62</td>\n",
       "      <td>62</td>\n",
       "      <td>Subway</td>\n",
       "      <td>Delis And Delicatessens,Take Out Restaurants,F...</td>\n",
       "      <td>1003 Highway 231 S</td>\n",
       "      <td>Troy</td>\n",
       "      <td>36081</td>\n",
       "      <td>Alabama</td>\n",
       "      <td>US</td>\n",
       "      <td>31.78473</td>\n",
       "      <td>-85.96336</td>\n",
       "      <td>1219</td>\n",
       "      <td>3.5</td>\n",
       "      <td>3.0</td>\n",
       "      <td>False</td>\n",
       "    </tr>\n",
       "  </tbody>\n",
       "</table>\n",
       "</div>"
      ],
      "text/plain": [
       "    Unnamed: 0  Unnamed: 0.1    name  \\\n",
       "23          24            24  Subway   \n",
       "25          26            26  Subway   \n",
       "29          31            31  Subway   \n",
       "35          38            38  Subway   \n",
       "59          62            62  Subway   \n",
       "\n",
       "                                           categories  \\\n",
       "23  Delis And Delicatessens,Restaurant,Carry-out f...   \n",
       "25  Delis And Delicatessens,Restaurant,Carry-out f...   \n",
       "29  Delis And Delicatessens,Carry-out food,Delicat...   \n",
       "35  Delis And Delicatessens,Carry-out food,Delicat...   \n",
       "59  Delis And Delicatessens,Take Out Restaurants,F...   \n",
       "\n",
       "                       address               city postalCode    state country  \\\n",
       "23                302 W Bypass          Andalusia      36420  Alabama      US   \n",
       "25          9433 Highway 431 S  Owens Cross Roads      35763  Alabama      US   \n",
       "29  6707 Highway 431 S Ste 104  Owens Cross Roads      35763  Alabama      US   \n",
       "35              720 Main St NE         Hanceville      35077  Alabama      US   \n",
       "59          1003 Highway 231 S               Troy      36081  Alabama      US   \n",
       "\n",
       "    latitude  longitude  count  Rating  Review Count  Closed  \n",
       "23  31.30987  -86.49962   1219     3.5           2.0   False  \n",
       "25  34.57064  -86.44759   1219     5.0           1.0   False  \n",
       "29  34.65901  -86.48167   1219     3.0           3.0   False  \n",
       "35  34.07124  -86.77643   1219     5.0           1.0   False  \n",
       "59  31.78473  -85.96336   1219     3.5           3.0   False  "
      ]
     },
     "execution_count": 4,
     "metadata": {},
     "output_type": "execute_result"
    }
   ],
   "source": [
    "subway_df = yelp_df[yelp_df['name'] == 'Subway']\n",
    "subway_df.head()"
   ]
  },
  {
   "cell_type": "code",
   "execution_count": 5,
   "metadata": {},
   "outputs": [],
   "source": [
    "mcdonalds_df = yelp_df[yelp_df['name'] == \"McDonald's\"]"
   ]
  },
  {
   "cell_type": "code",
   "execution_count": 6,
   "metadata": {},
   "outputs": [],
   "source": [
    "tacobell_df = yelp_df[yelp_df['name'] == 'Taco Bell']"
   ]
  },
  {
   "cell_type": "code",
   "execution_count": 7,
   "metadata": {},
   "outputs": [],
   "source": [
    "burgerking_df = yelp_df[yelp_df['name'] == 'Burger King']"
   ]
  },
  {
   "cell_type": "code",
   "execution_count": 8,
   "metadata": {},
   "outputs": [],
   "source": [
    "pizzahut_df = yelp_df[yelp_df['name'] == 'Pizza Hut']"
   ]
  },
  {
   "cell_type": "code",
   "execution_count": 28,
   "metadata": {},
   "outputs": [
    {
     "data": {
      "image/png": "[encoded data removed]",
      "text/plain": [
       "<Figure size 432x288 with 1 Axes>"
      ]
     },
     "metadata": {
      "needs_background": "light"
     },
     "output_type": "display_data"
    }
   ],
   "source": [
    "plt.scatter(subway_df['Rating'], subway_df['Review Count'], color='green', alpha = 0.3, label = \"Subway\")\n",
    "plt.scatter(mcdonalds_df['Rating'], mcdonalds_df['Review Count'], color = 'yellow', alpha = 0.3, label = \"McDonald's\")\n",
    "plt.scatter(tacobell_df['Rating'], tacobell_df['Review Count'], color = 'purple',alpha = 0.3, label = 'Taco Bell')\n",
    "plt.scatter(burgerking_df['Rating'], burgerking_df['Review Count'], color = 'blue', alpha = 0.3, label = 'Burger King')\n",
    "plt.scatter(pizzahut_df['Rating'], pizzahut_df['Review Count'], color = 'red', alpha = 0.3, label = 'Pizza Hut')\n",
    "plt.legend()\n",
    "plt.xlabel('Rating')\n",
    "plt.ylabel('Review Count')\n",
    "plt.title('Rating vs. Review Count (Top 5)')\n",
    "plt.show()\n"
   ]
  },
  {
   "cell_type": "code",
   "execution_count": 29,
   "metadata": {},
   "outputs": [
    {
     "data": {
      "text/plain": [
       "Text(0.5, 1.0, 'Ratings vs. Review Count (All Restaurants)')"
      ]
     },
     "execution_count": 29,
     "metadata": {},
     "output_type": "execute_result"
    },
    {
     "data": {
      "image/png": "[encoded data removed]",
      "text/plain": [
       "<Figure size 432x288 with 1 Axes>"
      ]
     },
     "metadata": {
      "needs_background": "light"
     },
     "output_type": "display_data"
    }
   ],
   "source": [
    "plt.scatter(yelp_df['Rating'], yelp_df['Review Count'], color = 'red', alpha = 0.3)\n",
    "plt.xlabel('Rating')\n",
    "plt.ylabel('Review Count')\n",
    "plt.title('Ratings vs. Review Count (All Restaurants)')"
   ]
  },
  {
   "cell_type": "code",
   "execution_count": null,
   "metadata": {},
   "outputs": [],
   "source": []
  }
 ],
 "metadata": {
  "kernelspec": {
   "display_name": "Python 3",
   "language": "python",
   "name": "python3"
  },
  "language_info": {
   "codemirror_mode": {
    "name": "ipython",
    "version": 3
   },
   "file_extension": ".py",
   "mimetype": "text/x-python",
   "name": "python",
   "nbconvert_exporter": "python",
   "pygments_lexer": "ipython3",
   "version": "3.8.5"
  }
 },
 "nbformat": 4,
 "nbformat_minor": 4
}
