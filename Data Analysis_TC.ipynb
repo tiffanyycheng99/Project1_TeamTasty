{
 "cells": [
  {
   "cell_type": "markdown",
   "metadata": {},
   "source": [
    "# Data Analysis\n",
    "\n",
    "Objective: Pulling ratings info from Yelp API to cleaned fastfood dataframe and create Map visualizations using gmaps.\n",
    "\n",
    "#### Things to consider: \n",
    "\n",
    "- What defines popularity? Ratings? # of restaurants in focus region/states/etc? # of Reviews?\n",
    "- For each state, what is the top restaurant with the most locations?\n",
    "- For each state, which restaurant chain has the highest average rating?\n",
    "- "
   ]
  },
  {
   "cell_type": "code",
   "execution_count": null,
   "metadata": {},
   "outputs": [],
   "source": [
    "# Dependencies and Setup\n",
    "import matplotlib.pyplot as plt\n",
    "import pandas as pd\n",
    "import scipy.stats as st\n",
    "from scipy.stats import linregress\n",
    "import numpy as np\n",
    "import gmaps\n",
    "\n",
    "# Study data files\n",
    "fastfood_path = \"Resources/Datafiniti_Fast_Food_Restaurants_May19.csv\"\n",
    "\n",
    "# Read the mouse data and the study results\n",
    "fastfood_data = pd.read_csv(fastfood_path)\n",
    "\n",
    "fastfood_data.head()"
   ]
  },
  {
   "cell_type": "code",
   "execution_count": null,
   "metadata": {},
   "outputs": [],
   "source": [
    "# Google developer API key\n",
    "from config import gkey\n",
    "\n",
    "# Configure gmaps\n",
    "gmaps.configure(api_key=gkey)"
   ]
  }
 ],
 "metadata": {
  "kernelspec": {
   "display_name": "Python 3",
   "language": "python",
   "name": "python3"
  },
  "language_info": {
   "codemirror_mode": {
    "name": "ipython",
    "version": 3
   },
   "file_extension": ".py",
   "mimetype": "text/x-python",
   "name": "python",
   "nbconvert_exporter": "python",
   "pygments_lexer": "ipython3",
   "version": "3.8.5"
  }
 },
 "nbformat": 4,
 "nbformat_minor": 4
}
